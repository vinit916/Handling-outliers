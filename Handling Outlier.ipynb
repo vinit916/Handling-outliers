{
 "cells": [
  {
   "cell_type": "markdown",
   "id": "ee61bec7-9229-4d66-9b14-ec2c35f73ed0",
   "metadata": {},
   "source": [
    "#5 Number summery\n",
    "1.Min.\n",
    "2.Q1(25%)\n",
    "3.Median\n",
    "4.Q3(75%)\n",
    "5.Max."
   ]
  },
  {
   "cell_type": "code",
   "execution_count": 2,
   "id": "96131742-f44d-45b2-a612-e981cbb6b1b5",
   "metadata": {},
   "outputs": [],
   "source": [
    "import numpy as np\n",
    "list_marks=[34,55,56,25,67,89,32,54,65,6,28,90,86,71,45,2100,1200]"
   ]
  },
  {
   "cell_type": "code",
   "execution_count": 3,
   "id": "846956d6-7e6c-4808-b7f2-28d6bdc9cdc2",
   "metadata": {},
   "outputs": [
    {
     "data": {
      "text/plain": [
       "array([34.])"
      ]
     },
     "execution_count": 3,
     "metadata": {},
     "output_type": "execute_result"
    }
   ],
   "source": [
    "#Q1 calculation\n",
    "np.percentile(list_marks,[25])\n"
   ]
  },
  {
   "cell_type": "code",
   "execution_count": 4,
   "id": "dd6ea4f5-14c1-4468-86ea-c5117f97f6cd",
   "metadata": {},
   "outputs": [
    {
     "data": {
      "text/plain": [
       "array([56.])"
      ]
     },
     "execution_count": 4,
     "metadata": {},
     "output_type": "execute_result"
    }
   ],
   "source": [
    "#Q2 calculation\n",
    "np.percentile(list_marks,[50])"
   ]
  },
  {
   "cell_type": "code",
   "execution_count": 5,
   "id": "58e15df7-c90d-45e0-b2bd-54c054925000",
   "metadata": {},
   "outputs": [
    {
     "data": {
      "text/plain": [
       "array([86.])"
      ]
     },
     "execution_count": 5,
     "metadata": {},
     "output_type": "execute_result"
    }
   ],
   "source": [
    "#Q3 calculation\n",
    "np.percentile(list_marks,[75])"
   ]
  },
  {
   "cell_type": "code",
   "execution_count": 6,
   "id": "c818a0ae-314e-4516-a77b-86e2386c8d6f",
   "metadata": {},
   "outputs": [
    {
     "data": {
      "text/plain": [
       "array([6.])"
      ]
     },
     "execution_count": 6,
     "metadata": {},
     "output_type": "execute_result"
    }
   ],
   "source": [
    "#min calculation\n",
    "np.percentile(list_marks,[0])"
   ]
  },
  {
   "cell_type": "code",
   "execution_count": 9,
   "id": "c92f1cdb-0bec-4d3b-8e6f-6cbd02463ea1",
   "metadata": {},
   "outputs": [
    {
     "data": {
      "text/plain": [
       "array([2100.])"
      ]
     },
     "execution_count": 9,
     "metadata": {},
     "output_type": "execute_result"
    }
   ],
   "source": [
    "#maximum calculation\n",
    "np.percentile(list_marks,[100])"
   ]
  },
  {
   "cell_type": "code",
   "execution_count": null,
   "id": "e0db47b2-0606-4a5c-9be8-5907f0ecbe45",
   "metadata": {},
   "outputs": [],
   "source": [
    "# Calculating Handling Outliers"
   ]
  },
  {
   "cell_type": "code",
   "execution_count": 7,
   "id": "c1d86a16-33e0-4e59-adc6-3ddf29d104be",
   "metadata": {},
   "outputs": [],
   "source": [
    "minimum,Q1,Q2,Q3,maximum=np.quantile(list_marks,[0,0.25,0.5,0.75,1])"
   ]
  },
  {
   "cell_type": "code",
   "execution_count": 12,
   "id": "65f31908-c733-4d96-80ba-2b63c94e9ea4",
   "metadata": {},
   "outputs": [
    {
     "data": {
      "text/plain": [
       "(34.0, 56.0, 6.0)"
      ]
     },
     "execution_count": 12,
     "metadata": {},
     "output_type": "execute_result"
    }
   ],
   "source": [
    "Q1,Q2,minimum"
   ]
  },
  {
   "cell_type": "code",
   "execution_count": 8,
   "id": "fff0fbd9-71fe-4879-be90-f52de438e516",
   "metadata": {},
   "outputs": [
    {
     "name": "stdout",
     "output_type": "stream",
     "text": [
      "52.0\n"
     ]
    }
   ],
   "source": [
    "IQR=Q3-Q1\n",
    "print(IQR)"
   ]
  },
  {
   "cell_type": "code",
   "execution_count": 15,
   "id": "31428f50-707a-458c-834b-989a05bf67d3",
   "metadata": {},
   "outputs": [],
   "source": [
    "#calculating lower_fence,higher_fence"
   ]
  },
  {
   "cell_type": "code",
   "execution_count": 9,
   "id": "b620626e-979a-42f5-9837-dc415fd2ad86",
   "metadata": {},
   "outputs": [],
   "source": [
    "lower_fence=Q1-1.5*(IQR)\n",
    "higher_fence=Q3+1.5*(IQR)"
   ]
  },
  {
   "cell_type": "code",
   "execution_count": 10,
   "id": "1b48f1a6-4e7a-4d3a-9aa6-2f7b69416195",
   "metadata": {},
   "outputs": [
    {
     "data": {
      "text/plain": [
       "(-44.0, 164.0)"
      ]
     },
     "execution_count": 10,
     "metadata": {},
     "output_type": "execute_result"
    }
   ],
   "source": [
    "lower_fence,higher_fence\n"
   ]
  },
  {
   "cell_type": "raw",
   "id": "dab8df98-5cc8-44b0-b880-cc6b6d9a170f",
   "metadata": {},
   "source": [
    "\n"
   ]
  },
  {
   "cell_type": "code",
   "execution_count": 12,
   "id": "fa2ffb4c-ad8d-47f4-b2c3-802401becb0f",
   "metadata": {},
   "outputs": [
    {
     "name": "stdout",
     "output_type": "stream",
     "text": [
      "This not a outliers\n",
      "This not a outliers\n",
      "This not a outliers\n",
      "This not a outliers\n",
      "This not a outliers\n",
      "This not a outliers\n",
      "This not a outliers\n",
      "This not a outliers\n",
      "This not a outliers\n",
      "This not a outliers\n",
      "This not a outliers\n",
      "This not a outliers\n",
      "This not a outliers\n",
      "This not a outliers\n",
      "This not a outliers\n"
     ]
    }
   ],
   "source": [
    "outliers=[]\n",
    "for i in list_marks:\n",
    "    if i>=-44 and i<=164:\n",
    "        print('This not a outliers')\n",
    "    else:\n",
    "        outliers.append(i)"
   ]
  },
  {
   "cell_type": "code",
   "execution_count": 13,
   "id": "baae925e-0c2c-487b-8a2c-04e1533b06c0",
   "metadata": {},
   "outputs": [
    {
     "data": {
      "text/plain": [
       "[2100, 1200]"
      ]
     },
     "execution_count": 13,
     "metadata": {},
     "output_type": "execute_result"
    }
   ],
   "source": [
    "outliers"
   ]
  },
  {
   "cell_type": "code",
   "execution_count": 14,
   "id": "facc1085-5adf-4e5e-9ded-a5dbfe756b59",
   "metadata": {},
   "outputs": [],
   "source": [
    "import seaborn as sns"
   ]
  },
  {
   "cell_type": "code",
   "execution_count": 15,
   "id": "c7f79597-ea0b-40d2-bf02-ef8476e45fb7",
   "metadata": {},
   "outputs": [
    {
     "data": {
      "text/plain": [
       "<AxesSubplot: >"
      ]
     },
     "execution_count": 15,
     "metadata": {},
     "output_type": "execute_result"
    },
    {
     "data": {
      "image/png": "[encoded data removed]",
      "text/plain": [
       "<Figure size 640x480 with 1 Axes>"
      ]
     },
     "metadata": {},
     "output_type": "display_data"
    }
   ],
   "source": [
    "sns.boxenplot(list_marks)"
   ]
  },
  {
   "cell_type": "code",
   "execution_count": 16,
   "id": "56c32759-f7b7-4ef9-b695-b334b28dcce1",
   "metadata": {},
   "outputs": [],
   "source": [
    "list_marks=[34,55,56,25,67,89,32,54,65,6,28,90,86,71,45]"
   ]
  },
  {
   "cell_type": "code",
   "execution_count": 17,
   "id": "963cf478-2264-4cbb-bf13-600dba25a0ae",
   "metadata": {},
   "outputs": [
    {
     "data": {
      "text/plain": [
       "<AxesSubplot: >"
      ]
     },
     "execution_count": 17,
     "metadata": {},
     "output_type": "execute_result"
    },
    {
     "data": {
      "image/png": "[encoded data removed]",
      "text/plain": [
       "<Figure size 640x480 with 1 Axes>"
      ]
     },
     "metadata": {},
     "output_type": "display_data"
    }
   ],
   "source": [
    "sns.boxplot(list_marks)"
   ]
  },
  {
   "cell_type": "code",
   "execution_count": null,
   "id": "d7235832-4c7a-4c00-a06a-1f07baabd0a1",
   "metadata": {},
   "outputs": [],
   "source": []
  }
 ],
 "metadata": {
  "kernelspec": {
   "display_name": "Python 3 (ipykernel)",
   "language": "python",
   "name": "python3"
  },
  "language_info": {
   "codemirror_mode": {
    "name": "ipython",
    "version": 3
   },
   "file_extension": ".py",
   "mimetype": "text/x-python",
   "name": "python",
   "nbconvert_exporter": "python",
   "pygments_lexer": "ipython3",
   "version": "3.10.8"
  }
 },
 "nbformat": 4,
 "nbformat_minor": 5
}
